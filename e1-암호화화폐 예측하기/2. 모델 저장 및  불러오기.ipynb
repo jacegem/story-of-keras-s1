{
 "cells": [
  {
   "cell_type": "markdown",
   "metadata": {
    "toc": true
   },
   "source": [
    "<h1>Table of Contents<span class=\"tocSkip\"></span></h1>\n",
    "<div class=\"toc\"><ul class=\"toc-item\"><li><span><a href=\"#모듈-설치\" data-toc-modified-id=\"모듈-설치-1\"><span class=\"toc-item-num\">1&nbsp;&nbsp;</span>모듈 설치</a></span></li><li><span><a href=\"#모델-생성\" data-toc-modified-id=\"모델-생성-2\"><span class=\"toc-item-num\">2&nbsp;&nbsp;</span>모델 생성</a></span></li><li><span><a href=\"#모델-저장\" data-toc-modified-id=\"모델-저장-3\"><span class=\"toc-item-num\">3&nbsp;&nbsp;</span>모델 저장</a></span></li><li><span><a href=\"#모델-불러오기\" data-toc-modified-id=\"모델-불러오기-4\"><span class=\"toc-item-num\">4&nbsp;&nbsp;</span>모델 불러오기</a></span></li><li><span><a href=\"#훈련-데이터-설정\" data-toc-modified-id=\"훈련-데이터-설정-5\"><span class=\"toc-item-num\">5&nbsp;&nbsp;</span>훈련 데이터 설정</a></span></li><li><span><a href=\"#전체-흐름\" data-toc-modified-id=\"전체-흐름-6\"><span class=\"toc-item-num\">6&nbsp;&nbsp;</span>전체 흐름</a></span></li><li><span><a href=\"#훈련-순서\" data-toc-modified-id=\"훈련-순서-7\"><span class=\"toc-item-num\">7&nbsp;&nbsp;</span>훈련 순서</a></span></li><li><span><a href=\"#이어서...\" data-toc-modified-id=\"이어서...-8\"><span class=\"toc-item-num\">8&nbsp;&nbsp;</span>이어서...</a></span></li></ul></div>"
   ]
  },
  {
   "cell_type": "markdown",
   "metadata": {},
   "source": [
    "# keras를 사용하여 암호화화폐 예측하기 - 2. 모델 저장 및 불러오기\n",
    "\n",
    "모델을 저장하고, 불러오기를 반복하며 학습을 진행합니다. 이전 코드를 바탕으로 새롭게 작성하여 진행합니다.\n",
    "\n",
    "모델을 생성하기 이전에 저장한 모델이 있는지 확인해서, 있으면 저장된 모델을 불러옵니다."
   ]
  },
  {
   "cell_type": "markdown",
   "metadata": {},
   "source": [
    "## 모듈 설치\n",
    "\n",
    "모델을 저장하기 위해 `h5py` 모듈을 설치합니다.\n",
    "\n",
    "jupyter 셀에서 쉘커맨드를 실행할 경우 앞에 `!` 를 붙여서 실행합니다."
   ]
  },
  {
   "cell_type": "code",
   "execution_count": 1,
   "metadata": {},
   "outputs": [
    {
     "name": "stdout",
     "output_type": "stream",
     "text": [
      "Requirement already satisfied: h5py in /usr/local/lib/python3.6/site-packages\r\n",
      "Requirement already satisfied: numpy>=1.7 in /usr/local/lib/python3.6/site-packages (from h5py)\r\n",
      "Requirement already satisfied: six in /usr/local/lib/python3.6/site-packages (from h5py)\r\n"
     ]
    }
   ],
   "source": [
    "!pip3 install h5py"
   ]
  },
  {
   "cell_type": "markdown",
   "metadata": {},
   "source": [
    "## 모델 생성\n",
    "\n",
    "모델을 생성합니다. 이전 코드와 동일합니다."
   ]
  },
  {
   "cell_type": "code",
   "execution_count": 2,
   "metadata": {},
   "outputs": [
    {
     "name": "stderr",
     "output_type": "stream",
     "text": [
      "Using TensorFlow backend.\n"
     ]
    }
   ],
   "source": [
    "from keras.models import Sequential\n",
    "from keras.layers import Dense, Dropout, LSTM\n",
    "\n",
    "batch_size = 1\n",
    "look_back = 10\n",
    "feature = 2\n",
    "\n",
    "model = Sequential()\n",
    "\n",
    "for i in range(3):\n",
    "    model.add(LSTM(32, batch_input_shape=(batch_size, look_back, feature), stateful=True, return_sequences=True))\n",
    "    model.add(Dropout(0.1))\n",
    "model.add(LSTM(32, batch_input_shape=(batch_size, look_back, feature), stateful=True))\n",
    "model.add(Dropout(0.1))\n",
    "model.add(Dense(feature))\n",
    "\n",
    "model.compile(loss='mean_squared_error', optimizer='adam')"
   ]
  },
  {
   "cell_type": "markdown",
   "metadata": {},
   "source": [
    "## 모델 저장\n",
    "\n",
    "생성한 모델을 저장합니다. 일단, 파일명은 `xrp_hour.h5`로 지정하겠습니다."
   ]
  },
  {
   "cell_type": "code",
   "execution_count": 3,
   "metadata": {},
   "outputs": [],
   "source": [
    "model_name = \"xrp_hour.h5\"\n",
    "model.save(model_name)"
   ]
  },
  {
   "cell_type": "markdown",
   "metadata": {},
   "source": [
    "## 모델 불러오기\n",
    "\n",
    "불러올 때는 `load_model`을 사용하면 됩니다."
   ]
  },
  {
   "cell_type": "code",
   "execution_count": 4,
   "metadata": {},
   "outputs": [],
   "source": [
    "from keras.models import load_model\n",
    "model = load_model(model_name)"
   ]
  },
  {
   "cell_type": "markdown",
   "metadata": {},
   "source": [
    "## 훈련 데이터 설정\n",
    "\n",
    "훈련에 사용할 데이터를 불러오겠습니다."
   ]
  },
  {
   "cell_type": "code",
   "execution_count": 5,
   "metadata": {},
   "outputs": [],
   "source": [
    "import pandas as pd\n",
    "\n",
    "file_name = 'hour_Bithumb_XRP_KRW.csv'\n",
    "data = pd.read_csv(file_name)\n",
    "\n",
    "high_low_data = data[['high','low']]\n",
    "data = high_low_data.dropna(axis=0, how='any')\n",
    "\n",
    "min_low = data.min(axis=0).low\n",
    "data -= min_low\n",
    "max_high = data.max(axis=0).high\n",
    "data /= max_high\n",
    "\n",
    "data_arr = data.values"
   ]
  },
  {
   "cell_type": "markdown",
   "metadata": {},
   "source": [
    "훈련을 위한 입출력데이터를 생성합니다."
   ]
  },
  {
   "cell_type": "code",
   "execution_count": 6,
   "metadata": {},
   "outputs": [],
   "source": [
    "import numpy as np\n",
    "\n",
    "data_x, data_y = [], []\n",
    "for i in range(len(data_arr) - look_back):\n",
    "    data_x.append(data_arr[i:(i+look_back)])\n",
    "    data_y.append(data_arr[i+look_back])\n",
    "\n",
    "x_train = np.array(data_x)\n",
    "y_train = np.array(data_y)"
   ]
  },
  {
   "cell_type": "markdown",
   "metadata": {},
   "source": [
    "훈련이 되는지 확인합니다."
   ]
  },
  {
   "cell_type": "code",
   "execution_count": 7,
   "metadata": {},
   "outputs": [
    {
     "name": "stdout",
     "output_type": "stream",
     "text": [
      "Epoch 1/1\n",
      "327/327 [==============================] - 31s 93ms/step - loss: 0.0196\n"
     ]
    },
    {
     "data": {
      "text/plain": [
       "<keras.callbacks.History at 0x11cad9048>"
      ]
     },
     "execution_count": 7,
     "metadata": {},
     "output_type": "execute_result"
    }
   ],
   "source": [
    "model.fit(x_train, y_train, epochs=1, batch_size=1, shuffle=False)"
   ]
  },
  {
   "cell_type": "markdown",
   "metadata": {},
   "source": [
    "## 전체 흐름\n",
    "\n",
    "전체적인 흐름을 다시 정리합니다.\n",
    "1. 저장된 모델이 있는지 확인\n",
    "  - 있으면 불러오고\n",
    "  - 없으면 생성\n",
    "2. 훈련을 하고\n",
    "3. 저장합니다.\n",
    "\n",
    "이 과정을 반복하여 훈련을 지속할 수 있습니다."
   ]
  },
  {
   "cell_type": "markdown",
   "metadata": {},
   "source": [
    "모델을 생성하는 함수를 생성합니다. 마지막 부분에서 생성한 모델을 반환합니다."
   ]
  },
  {
   "cell_type": "code",
   "execution_count": 8,
   "metadata": {},
   "outputs": [],
   "source": [
    "from keras.models import Sequential\n",
    "from keras.layers import Dense, Dropout, LSTM\n",
    "\n",
    "def create_model():\n",
    "    batch_size = 1\n",
    "    look_back = 10\n",
    "    feature = 2\n",
    "\n",
    "    model = Sequential()\n",
    "    depth = 3\n",
    "    for i in range(depth):\n",
    "        model.add(LSTM(((depth - i ) * 32), batch_input_shape=(batch_size, look_back, feature), stateful=True, return_sequences=True))\n",
    "        model.add(Dropout(0.1))\n",
    "    model.add(LSTM(32, batch_input_shape=(batch_size, look_back, feature), stateful=True))\n",
    "    model.add(Dropout(0.1))\n",
    "    model.add(Dense(feature))\n",
    "\n",
    "    model.compile(loss='mean_squared_error', optimizer='adam')\n",
    "    return model"
   ]
  },
  {
   "cell_type": "markdown",
   "metadata": {},
   "source": [
    "모델을 생성하는 함수를 만들고, 저장된 모델을 불러오는 함수를 생성합니다.\n",
    "\n",
    "> 모듈을 import하는 부분은 위에서 실행하였으면, 다시 실행할 필요는 없습니다."
   ]
  },
  {
   "cell_type": "code",
   "execution_count": 9,
   "metadata": {},
   "outputs": [],
   "source": [
    "from keras.models import load_model\n",
    "\n",
    "def load_saved_model():\n",
    "    try:\n",
    "        model = load_model(model_name)\n",
    "    except:\n",
    "        model = create_model()\n",
    "    return model"
   ]
  },
  {
   "cell_type": "markdown",
   "metadata": {},
   "source": [
    "저장된 모델을 불러보고 확인해 보겠습니다."
   ]
  },
  {
   "cell_type": "code",
   "execution_count": 10,
   "metadata": {},
   "outputs": [
    {
     "data": {
      "text/plain": [
       "<keras.models.Sequential at 0x11f82a828>"
      ]
     },
     "execution_count": 10,
     "metadata": {},
     "output_type": "execute_result"
    }
   ],
   "source": [
    "model = load_saved_model()\n",
    "model"
   ]
  },
  {
   "cell_type": "markdown",
   "metadata": {},
   "source": [
    "저장된 모델을 지워보고 확인해 보겠습니다. 파일이 있으면 지워지고, 없으면 `FileNotFoundError`가 발생할 것입니다."
   ]
  },
  {
   "cell_type": "code",
   "execution_count": 11,
   "metadata": {},
   "outputs": [
    {
     "data": {
      "text/plain": [
       "<keras.models.Sequential at 0x11f9a69e8>"
      ]
     },
     "execution_count": 11,
     "metadata": {},
     "output_type": "execute_result"
    }
   ],
   "source": [
    "import os, sys\n",
    "try:\n",
    "    os.remove(model_name)\n",
    "except:\n",
    "    print(\"Unexpected error:\", sys.exc_info()[0])\n",
    "model = load_saved_model()\n",
    "model"
   ]
  },
  {
   "cell_type": "markdown",
   "metadata": {},
   "source": [
    "## 훈련 순서\n",
    "\n",
    "1. 모델 불러오기\n",
    "2. 훈련\n",
    "3. 모델 저장하기"
   ]
  },
  {
   "cell_type": "code",
   "execution_count": 12,
   "metadata": {},
   "outputs": [
    {
     "name": "stdout",
     "output_type": "stream",
     "text": [
      "Epoch 1/1\n",
      "327/327 [==============================] - 32s 96ms/step - loss: 0.0198\n"
     ]
    }
   ],
   "source": [
    "model = load_saved_model()\n",
    "model.fit(x_train, y_train, epochs=1, batch_size=1, shuffle=False)\n",
    "model.save(model_name)"
   ]
  },
  {
   "cell_type": "markdown",
   "metadata": {},
   "source": [
    "첫번째 값을 예측한 값과 비교해보겠습니다."
   ]
  },
  {
   "cell_type": "code",
   "execution_count": 13,
   "metadata": {},
   "outputs": [
    {
     "name": "stdout",
     "output_type": "stream",
     "text": [
      "y: [ 0.88607595  0.84599156]\n",
      "p: [[ 0.18023619  0.2006087 ]]\n"
     ]
    }
   ],
   "source": [
    "xhat = x_train[0]\n",
    "prediction = model.predict(np.array([xhat]), batch_size=1)\n",
    "print(\"y:\", y_train[0])\n",
    "print(\"p:\", prediction)"
   ]
  },
  {
   "cell_type": "markdown",
   "metadata": {},
   "source": [
    "동작을 확인하였으면, 훈련을 하는 함수를 생성합니다."
   ]
  },
  {
   "cell_type": "code",
   "execution_count": 14,
   "metadata": {},
   "outputs": [],
   "source": [
    "def train_model(train_count):\n",
    "    model = load_saved_model()\n",
    "    for i in range(train_count):\n",
    "        print(\"train_step:{}\".format(i+1))\n",
    "        model.fit(x_train, y_train, epochs=1, batch_size=1, shuffle=False)\n",
    "        model.reset_states()\n",
    "    model.save(model_name)"
   ]
  },
  {
   "cell_type": "markdown",
   "metadata": {},
   "source": [
    "훈련 함수를 호출합니다. 파라미터로 훈련 횟수를 설정합니다."
   ]
  },
  {
   "cell_type": "code",
   "execution_count": 15,
   "metadata": {},
   "outputs": [
    {
     "name": "stdout",
     "output_type": "stream",
     "text": [
      "train_step:1\n",
      "Epoch 1/1\n",
      "327/327 [==============================] - 26s 80ms/step - loss: 0.0158\n",
      "train_step:2\n",
      "Epoch 1/1\n",
      "327/327 [==============================] - 25s 77ms/step - loss: 0.0196\n",
      "train_step:3\n",
      "Epoch 1/1\n",
      "327/327 [==============================] - 26s 80ms/step - loss: 0.0250\n",
      "train_step:4\n",
      "Epoch 1/1\n",
      "327/327 [==============================] - 26s 80ms/step - loss: 0.0340\n",
      "train_step:5\n",
      "Epoch 1/1\n",
      "327/327 [==============================] - 26s 80ms/step - loss: 0.0329\n"
     ]
    }
   ],
   "source": [
    "train_model(5)"
   ]
  },
  {
   "cell_type": "markdown",
   "metadata": {},
   "source": [
    "## 이어서...\n",
    "\n",
    "훈련된 모델을 사용하여 이후의 값을 예측해보겠습니다."
   ]
  },
  {
   "cell_type": "raw",
   "metadata": {},
   "source": [
    "<script src=\"https://gist.github.com/jacegem/992cace234a783e47212446ba751e1d0.js\"></script>"
   ]
  }
 ],
 "metadata": {
  "kernelspec": {
   "display_name": "Python 3",
   "language": "python",
   "name": "python3"
  },
  "language_info": {
   "codemirror_mode": {
    "name": "ipython",
    "version": 3
   },
   "file_extension": ".py",
   "mimetype": "text/x-python",
   "name": "python",
   "nbconvert_exporter": "python",
   "pygments_lexer": "ipython3",
   "version": "3.6.1"
  },
  "toc": {
   "nav_menu": {
    "height": "265px",
    "width": "208px"
   },
   "number_sections": true,
   "sideBar": false,
   "skip_h1_title": true,
   "title_cell": "Table of Contents",
   "title_sidebar": "Contents",
   "toc_cell": true,
   "toc_position": {},
   "toc_section_display": true,
   "toc_window_display": false
  }
 },
 "nbformat": 4,
 "nbformat_minor": 2
}
