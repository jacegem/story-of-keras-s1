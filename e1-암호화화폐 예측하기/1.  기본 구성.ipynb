{
 "cells": [
  {
   "cell_type": "markdown",
   "metadata": {
    "toc": true
   },
   "source": [
    "<h1>Table of Contents<span class=\"tocSkip\"></span></h1>\n",
    "<div class=\"toc\"><ul class=\"toc-item\"><li><span><a href=\"#작업-준비\" data-toc-modified-id=\"작업-준비-1\"><span class=\"toc-item-num\">1&nbsp;&nbsp;</span>작업 준비</a></span></li><li><span><a href=\"#데이터-다운로드\" data-toc-modified-id=\"데이터-다운로드-2\"><span class=\"toc-item-num\">2&nbsp;&nbsp;</span>데이터 다운로드</a></span></li><li><span><a href=\"#jupyter-실행\" data-toc-modified-id=\"jupyter-실행-3\"><span class=\"toc-item-num\">3&nbsp;&nbsp;</span>jupyter 실행</a></span></li><li><span><a href=\"#데이터-읽기\" data-toc-modified-id=\"데이터-읽기-4\"><span class=\"toc-item-num\">4&nbsp;&nbsp;</span>데이터 읽기</a></span></li><li><span><a href=\"#입출력-데이터-생성\" data-toc-modified-id=\"입출력-데이터-생성-5\"><span class=\"toc-item-num\">5&nbsp;&nbsp;</span>입출력 데이터 생성</a></span></li><li><span><a href=\"#모델-생성\" data-toc-modified-id=\"모델-생성-6\"><span class=\"toc-item-num\">6&nbsp;&nbsp;</span>모델 생성</a></span></li><li><span><a href=\"#모델-훈련\" data-toc-modified-id=\"모델-훈련-7\"><span class=\"toc-item-num\">7&nbsp;&nbsp;</span>모델 훈련</a></span></li><li><span><a href=\"#그래프-확인\" data-toc-modified-id=\"그래프-확인-8\"><span class=\"toc-item-num\">8&nbsp;&nbsp;</span>그래프 확인</a></span></li><li><span><a href=\"#이어서...\" data-toc-modified-id=\"이어서...-9\"><span class=\"toc-item-num\">9&nbsp;&nbsp;</span>이어서...</a></span></li></ul></div>"
   ]
  },
  {
   "cell_type": "markdown",
   "metadata": {},
   "source": [
    "# keras를 사용하여 암호화화폐 예측하기 - 1. 기본구성\n",
    "\n",
    "<TOC>\n",
    "\n",
    "cryptocompare 에서 제공하는 데이터를 활용하여 암호화화폐의 변동을 예측하는 코드를 작성합니다. 물론 재미로 보는 운세와 같은 `틀린 예측`입니다. 거래에 활용하면 돈을 잃을 수도 있습니다.\n",
    "\n",
    "매 시각의 high, low 값을 활용하여 다음 시각의 high, low값을 예측합니다.\n",
    "\n",
    "| 시각 | high | low |\n",
    "|---- |----  |---- |\n",
    "| 01:00 | 123 | 110 |\n",
    "| 02:00 | 152 | 122 | \n",
    "| ... | ... | ... |\n",
    "| 10:00 | 124 | 102 |\n",
    "| 11:00 | ??? | ??? | \n"
   ]
  },
  {
   "cell_type": "markdown",
   "metadata": {},
   "source": [
    "## 작업 준비\n",
    "\n",
    "파이썬을 실행할 수 있는 환경에서 시작합니다.\n",
    "\n",
    "jupyter에서 작업하기 위해 jupyter를 설치합니다.\n",
    "\n",
    "```sh\n",
    "pip install jupyter\n",
    "```\n",
    "\n",
    "필요한 모듈을 설치합니다.\n",
    "\n",
    "```sh\n",
    "pip install keras tensorflow pandas matplotlib\n",
    "```"
   ]
  },
  {
   "cell_type": "markdown",
   "metadata": {},
   "source": [
    "## 데이터 다운로드 \n",
    "\n",
    "[crypotcompare](https://www.cryptocompare.com/coins/xrp/charts/KRW?e=Bithumb&p=2W) 에서 다운 받을 데이터를 설정합니다. \n",
    "\n",
    "![](https://content.screencast.com/users/beneapp/folders/Snagit/media/2641d527-935c-4876-b569-96f708e24857/2018-01-27_14-57-01.png)\n",
    "\n",
    "화페는 `xrp`, 단위는 `krw`, 거래소는 `bithume`, 기간은 `2w`로 설정하였습니다.\n",
    "\n",
    "csv 로 저장합니다.\n",
    "\n",
    "![](https://content.screencast.com/users/beneapp/folders/Snagit/media/7ca0a9d8-bb8a-4efc-b4ca-19fb39d79b91/2018-01-27_14-59-01.png)\n",
    "\n",
    "다운받은 데이터를 확인합니다.\n",
    "```\n",
    "\"time\",\"timeDate\",\"close\",\"high\",\"low\",\"open\",\"volumefrom\",\"volumeto\"\n",
    "1515819600000,\"2018-01-13\",3023,3069,3001,3005,5748943.24,17411526929.22\n",
    "1515823200000,\"2018-01-13\",3001,3028,2922,3023,4969552.48,14822283901.44\n",
    "...\n",
    "```\n",
    "\n",
    "받은 데이터를 기반으로 앞으로 변동될 가격을 예측할 수 있는 모델을 만듭니다."
   ]
  },
  {
   "cell_type": "markdown",
   "metadata": {},
   "source": [
    "## jupyter 실행\n",
    "\n",
    "jupyter를 실행합니다.\n",
    "```sh\n",
    "jupyter notebook\n",
    "```\n",
    "\n",
    "명령을 실행하는 위치를 기반으로 jupyter가 실행됩니다.\n",
    "\n",
    "만약 한곳에서 실행되도록 jupyter의 홈경로를 설정하기를 원하면 설정파일`jupyter_notebook_config.py`을 변경한 후에 jupyter를 실행합니다.\n",
    "\n",
    "Mac의 경우 `~/.jupyter/jupyter_notebook_config.py` 에 있습니다.\n",
    "\n",
    "```\n",
    "## The directory to use for notebooks and kernels.\n",
    "#c.NotebookApp.notebook_dir = ''\n",
    "c.NotebookApp.notebook_dir = '/원하는/경로로/설정합니다/jupyter'\n",
    "```"
   ]
  },
  {
   "cell_type": "markdown",
   "metadata": {},
   "source": [
    "## 데이터 읽기\n",
    "\n",
    "새로운 노트북을 생성합니다. \n",
    "다운받은 csv 파일을 노트북이 있는 곳으로 이동합니다.\n",
    "csv의 파일명을 `hour_Bithumb_XRP_KRW.csv`로 변경합니다."
   ]
  },
  {
   "cell_type": "markdown",
   "metadata": {},
   "source": [
    "필요한 모듈을 import 합니다."
   ]
  },
  {
   "cell_type": "code",
   "execution_count": 1,
   "metadata": {},
   "outputs": [],
   "source": [
    "import pandas as pd"
   ]
  },
  {
   "cell_type": "markdown",
   "metadata": {},
   "source": [
    "파일을 읽어서 내용을 확인합니다."
   ]
  },
  {
   "cell_type": "code",
   "execution_count": 2,
   "metadata": {},
   "outputs": [
    {
     "data": {
      "text/html": [
       "<div>\n",
       "<table border=\"1\" class=\"dataframe\">\n",
       "  <thead>\n",
       "    <tr style=\"text-align: right;\">\n",
       "      <th></th>\n",
       "      <th>time</th>\n",
       "      <th>timeDate</th>\n",
       "      <th>close</th>\n",
       "      <th>high</th>\n",
       "      <th>low</th>\n",
       "      <th>open</th>\n",
       "      <th>volumefrom</th>\n",
       "      <th>volumeto</th>\n",
       "    </tr>\n",
       "  </thead>\n",
       "  <tbody>\n",
       "    <tr>\n",
       "      <th>0</th>\n",
       "      <td>1515888000000</td>\n",
       "      <td>2018-01-14</td>\n",
       "      <td>2875</td>\n",
       "      <td>2908</td>\n",
       "      <td>2851</td>\n",
       "      <td>2907</td>\n",
       "      <td>5210709.84</td>\n",
       "      <td>1.498953e+10</td>\n",
       "    </tr>\n",
       "    <tr>\n",
       "      <th>1</th>\n",
       "      <td>1515891600000</td>\n",
       "      <td>2018-01-14</td>\n",
       "      <td>2811</td>\n",
       "      <td>2883</td>\n",
       "      <td>2802</td>\n",
       "      <td>2875</td>\n",
       "      <td>5029618.20</td>\n",
       "      <td>1.429373e+10</td>\n",
       "    </tr>\n",
       "    <tr>\n",
       "      <th>2</th>\n",
       "      <td>1515895200000</td>\n",
       "      <td>2018-01-14</td>\n",
       "      <td>2786</td>\n",
       "      <td>2811</td>\n",
       "      <td>2700</td>\n",
       "      <td>2811</td>\n",
       "      <td>6784564.70</td>\n",
       "      <td>1.854825e+10</td>\n",
       "    </tr>\n",
       "    <tr>\n",
       "      <th>3</th>\n",
       "      <td>1515898800000</td>\n",
       "      <td>2018-01-14</td>\n",
       "      <td>2752</td>\n",
       "      <td>2814</td>\n",
       "      <td>2732</td>\n",
       "      <td>2786</td>\n",
       "      <td>5917546.04</td>\n",
       "      <td>1.632970e+10</td>\n",
       "    </tr>\n",
       "    <tr>\n",
       "      <th>4</th>\n",
       "      <td>1515902400000</td>\n",
       "      <td>2018-01-14</td>\n",
       "      <td>2659</td>\n",
       "      <td>2777</td>\n",
       "      <td>2609</td>\n",
       "      <td>2752</td>\n",
       "      <td>6380921.02</td>\n",
       "      <td>1.724873e+10</td>\n",
       "    </tr>\n",
       "  </tbody>\n",
       "</table>\n",
       "</div>"
      ],
      "text/plain": [
       "            time    timeDate  close  high   low  open  volumefrom  \\\n",
       "0  1515888000000  2018-01-14   2875  2908  2851  2907  5210709.84   \n",
       "1  1515891600000  2018-01-14   2811  2883  2802  2875  5029618.20   \n",
       "2  1515895200000  2018-01-14   2786  2811  2700  2811  6784564.70   \n",
       "3  1515898800000  2018-01-14   2752  2814  2732  2786  5917546.04   \n",
       "4  1515902400000  2018-01-14   2659  2777  2609  2752  6380921.02   \n",
       "\n",
       "       volumeto  \n",
       "0  1.498953e+10  \n",
       "1  1.429373e+10  \n",
       "2  1.854825e+10  \n",
       "3  1.632970e+10  \n",
       "4  1.724873e+10  "
      ]
     },
     "execution_count": 2,
     "metadata": {},
     "output_type": "execute_result"
    }
   ],
   "source": [
    "file_name = 'hour_Bithumb_XRP_KRW.csv'\n",
    "data = pd.read_csv(file_name)\n",
    "data.head()"
   ]
  },
  {
   "cell_type": "markdown",
   "metadata": {},
   "source": [
    "high, low 값만 사용하고, 빈값이 있으면 제거합니다."
   ]
  },
  {
   "cell_type": "code",
   "execution_count": 3,
   "metadata": {},
   "outputs": [
    {
     "data": {
      "text/html": [
       "<div>\n",
       "<table border=\"1\" class=\"dataframe\">\n",
       "  <thead>\n",
       "    <tr style=\"text-align: right;\">\n",
       "      <th></th>\n",
       "      <th>high</th>\n",
       "      <th>low</th>\n",
       "    </tr>\n",
       "  </thead>\n",
       "  <tbody>\n",
       "    <tr>\n",
       "      <th>0</th>\n",
       "      <td>2908</td>\n",
       "      <td>2851</td>\n",
       "    </tr>\n",
       "    <tr>\n",
       "      <th>1</th>\n",
       "      <td>2883</td>\n",
       "      <td>2802</td>\n",
       "    </tr>\n",
       "    <tr>\n",
       "      <th>2</th>\n",
       "      <td>2811</td>\n",
       "      <td>2700</td>\n",
       "    </tr>\n",
       "    <tr>\n",
       "      <th>3</th>\n",
       "      <td>2814</td>\n",
       "      <td>2732</td>\n",
       "    </tr>\n",
       "    <tr>\n",
       "      <th>4</th>\n",
       "      <td>2777</td>\n",
       "      <td>2609</td>\n",
       "    </tr>\n",
       "  </tbody>\n",
       "</table>\n",
       "</div>"
      ],
      "text/plain": [
       "   high   low\n",
       "0  2908  2851\n",
       "1  2883  2802\n",
       "2  2811  2700\n",
       "3  2814  2732\n",
       "4  2777  2609"
      ]
     },
     "execution_count": 3,
     "metadata": {},
     "output_type": "execute_result"
    }
   ],
   "source": [
    "high_low_data = data[['high','low']]\n",
    "data = high_low_data.dropna(axis=0, how='any')\n",
    "data.head()"
   ]
  },
  {
   "cell_type": "markdown",
   "metadata": {},
   "source": [
    "모든 값을 `0 ~ 1` 의 값으로 변경합니다.\n",
    "모든 값에서, 최소값을 빼고, 최대값으로 나눠줍니다."
   ]
  },
  {
   "cell_type": "code",
   "execution_count": 4,
   "metadata": {},
   "outputs": [
    {
     "name": "stdout",
     "output_type": "stream",
     "text": [
      "min:1012, max:2908\n"
     ]
    }
   ],
   "source": [
    "min_low = data.min(axis=0).low\n",
    "data -= min_low\n",
    "\n",
    "max_high = data.max(axis=0).high\n",
    "data /= max_high\n",
    "\n",
    "print('min:{}, max:{}'.format(min_low, max_high+min_low))"
   ]
  },
  {
   "cell_type": "markdown",
   "metadata": {},
   "source": [
    "데이터 분리를 위해 array로 변경합니다."
   ]
  },
  {
   "cell_type": "code",
   "execution_count": 5,
   "metadata": {},
   "outputs": [
    {
     "data": {
      "text/plain": [
       "array([[ 1.        ,  0.96993671],\n",
       "       [ 0.98681435,  0.94409283],\n",
       "       [ 0.94883966,  0.89029536],\n",
       "       [ 0.95042194,  0.907173  ],\n",
       "       [ 0.93090717,  0.84229958]])"
      ]
     },
     "execution_count": 5,
     "metadata": {},
     "output_type": "execute_result"
    }
   ],
   "source": [
    "data_arr = data.values\n",
    "data_arr[:5]"
   ]
  },
  {
   "cell_type": "markdown",
   "metadata": {},
   "source": [
    "## 입출력 데이터 생성\n",
    "\n",
    "10개의 데이터를 순차적으로 입력하고 다음값을 예측합니다.\n",
    "RNN 모델을 사용합니다.\n",
    "입출력 데이터를 생성하는 함수를 작성합니다."
   ]
  },
  {
   "cell_type": "markdown",
   "metadata": {},
   "source": [
    "행을 숫자로, high를 `h`, low를 `l` 나타내면 다음과 같이 데이터를 표현할 수 있습니다.\n",
    "\n",
    "```\n",
    "1: 1h, 1l\n",
    "2: 2h, 2l\n",
    "3: 3h, 3l\n",
    "...\n",
    "```\n",
    "\n",
    "이 데이터를 입출력에 사용할 데이터로 변경하면 다음과 같습니다. 예시에서는 3개의 입력데이터를 사용하는 것을 작성하겠습니다.\n",
    "\n",
    "```\n",
    "입력 1: [[1h, 1h], [2h, 2l], [3h, 3l]]\n",
    "출력 1: [4h, 4l]\n",
    "입력 2: [[2h, 2l], [3h, 3l], [4h, 4l]]\n",
    "출력 2: [5h, 5l]\n",
    "...\n",
    "```"
   ]
  },
  {
   "cell_type": "markdown",
   "metadata": {},
   "source": [
    "데이터의 길이를 확인합니다."
   ]
  },
  {
   "cell_type": "code",
   "execution_count": 6,
   "metadata": {},
   "outputs": [
    {
     "data": {
      "text/plain": [
       "337"
      ]
     },
     "execution_count": 6,
     "metadata": {},
     "output_type": "execute_result"
    }
   ],
   "source": [
    "len(data_arr)"
   ]
  },
  {
   "cell_type": "markdown",
   "metadata": {},
   "source": [
    "337 이고, 10개의 입력데이터를 사용할 것이므로, 337-10 = 327 개의 입출력 데이터를 생성합니다."
   ]
  },
  {
   "cell_type": "code",
   "execution_count": 7,
   "metadata": {},
   "outputs": [],
   "source": [
    "look_back = 10\n",
    "\n",
    "data_x, data_y = [], []\n",
    "for i in range(len(data_arr) - look_back):\n",
    "    data_x.append(data_arr[i:(i+look_back)])\n",
    "    data_y.append(data_arr[i+look_back])\n"
   ]
  },
  {
   "cell_type": "code",
   "execution_count": 8,
   "metadata": {},
   "outputs": [
    {
     "name": "stdout",
     "output_type": "stream",
     "text": [
      "입력 [ 0.88607595  0.84599156]\n",
      "출력 [ 0.88607595  0.84599156]\n",
      "길이 327\n"
     ]
    }
   ],
   "source": [
    "print(\"입력\", data_y[0])\n",
    "print(\"출력\", data_y[0])\n",
    "print('길이', len(data_x))"
   ]
  },
  {
   "cell_type": "markdown",
   "metadata": {},
   "source": [
    "생성한 data_x, data_y 를 모델 훈련에 사용할 수 있도록 numpy array 로 변경합니다."
   ]
  },
  {
   "cell_type": "code",
   "execution_count": 9,
   "metadata": {},
   "outputs": [],
   "source": [
    "import numpy as np\n",
    "\n",
    "x_train = np.array(data_x)\n",
    "y_train = np.array(data_y)"
   ]
  },
  {
   "cell_type": "markdown",
   "metadata": {},
   "source": [
    "## 모델 생성\n",
    "\n",
    "생성한 x_train, y_train 데이터를 사용하여 모델을 훈련시키면 됩니다."
   ]
  },
  {
   "cell_type": "markdown",
   "metadata": {},
   "source": [
    "기본설정을 사용하였기에 백엔드는 `TensorFlow`를 사용합니다.\n",
    "\n",
    "이제, 훈련시킬 모델을 생성합니다"
   ]
  },
  {
   "cell_type": "code",
   "execution_count": 10,
   "metadata": {},
   "outputs": [
    {
     "name": "stderr",
     "output_type": "stream",
     "text": [
      "Using TensorFlow backend.\n"
     ]
    }
   ],
   "source": [
    "from keras.models import Sequential\n",
    "from keras.layers import Dense, Dropout, LSTM\n",
    "\n",
    "batch_size = 1\n",
    "look_back = 10 # 입력으로 10개 데이터 사용\n",
    "feature = 2 # high, low 2개"
   ]
  },
  {
   "cell_type": "code",
   "execution_count": 11,
   "metadata": {},
   "outputs": [],
   "source": [
    "model = Sequential()\n",
    "for i in range(3):\n",
    "    model.add(LSTM(32, batch_input_shape=(batch_size, look_back, feature), stateful=True, return_sequences=True))\n",
    "    model.add(Dropout(0.1))\n",
    "model.add(LSTM(32, batch_input_shape=(batch_size, look_back, feature), stateful=True))\n",
    "model.add(Dropout(0.1))\n",
    "model.add(Dense(feature))"
   ]
  },
  {
   "cell_type": "markdown",
   "metadata": {},
   "source": [
    "5개의 층을 사용합니다.\n",
    "1. LSTM(출력: 3*32)\n",
    "2. LSTM(출력: 2*32)\n",
    "3. LSTM(출력: 1*32)\n",
    "4. LSTM(출력: 32)\n",
    "5. Dense(출력: 2)\n",
    "\n",
    "생성한 모델을 그래프로 확인해보겠습니다. 그래프로 확인하기 위해서는 [graphviz](https://www.graphviz.org) 설치되고 환경변수 path에 추가되어 있어야 합니다. 실행하지 않고 진행해도 무방합니다."
   ]
  },
  {
   "cell_type": "code",
   "execution_count": 12,
   "metadata": {
    "scrolled": false
   },
   "outputs": [
    {
     "data": {
      "image/svg+xml": [
       "<svg height=\"702pt\" viewBox=\"0.00 0.00 167.48 702.00\" width=\"167pt\" xmlns=\"http://www.w3.org/2000/svg\" xmlns:xlink=\"http://www.w3.org/1999/xlink\">\n",
       "<g class=\"graph\" id=\"graph0\" transform=\"scale(1 1) rotate(0) translate(4 698)\">\n",
       "<title>G</title>\n",
       "<polygon fill=\"#ffffff\" points=\"-4,4 -4,-698 163.4795,-698 163.4795,4 -4,4\" stroke=\"transparent\"/>\n",
       "<!-- 4693031288 -->\n",
       "<g class=\"node\" id=\"node1\">\n",
       "<title>4693031288</title>\n",
       "<polygon fill=\"none\" points=\"0,-657.5 0,-693.5 159.4795,-693.5 159.4795,-657.5 0,-657.5\" stroke=\"#000000\"/>\n",
       "<text fill=\"#000000\" font-family=\"Times,serif\" font-size=\"14.00\" text-anchor=\"middle\" x=\"79.7397\" y=\"-671.3\">lstm_1_input: InputLayer</text>\n",
       "</g>\n",
       "<!-- 4693030504 -->\n",
       "<g class=\"node\" id=\"node2\">\n",
       "<title>4693030504</title>\n",
       "<polygon fill=\"none\" points=\"30.3174,-584.5 30.3174,-620.5 129.1621,-620.5 129.1621,-584.5 30.3174,-584.5\" stroke=\"#000000\"/>\n",
       "<text fill=\"#000000\" font-family=\"Times,serif\" font-size=\"14.00\" text-anchor=\"middle\" x=\"79.7397\" y=\"-598.3\">lstm_1: LSTM</text>\n",
       "</g>\n",
       "<!-- 4693031288&#45;&gt;4693030504 -->\n",
       "<g class=\"edge\" id=\"edge1\">\n",
       "<title>4693031288-&gt;4693030504</title>\n",
       "<path d=\"M79.7397,-657.4551C79.7397,-649.3828 79.7397,-639.6764 79.7397,-630.6817\" fill=\"none\" stroke=\"#000000\"/>\n",
       "<polygon fill=\"#000000\" points=\"83.2398,-630.5903 79.7397,-620.5904 76.2398,-630.5904 83.2398,-630.5903\" stroke=\"#000000\"/>\n",
       "</g>\n",
       "<!-- 4693031960 -->\n",
       "<g class=\"node\" id=\"node3\">\n",
       "<title>4693031960</title>\n",
       "<polygon fill=\"none\" points=\"15.938,-511.5 15.938,-547.5 143.5415,-547.5 143.5415,-511.5 15.938,-511.5\" stroke=\"#000000\"/>\n",
       "<text fill=\"#000000\" font-family=\"Times,serif\" font-size=\"14.00\" text-anchor=\"middle\" x=\"79.7397\" y=\"-525.3\">dropout_1: Dropout</text>\n",
       "</g>\n",
       "<!-- 4693030504&#45;&gt;4693031960 -->\n",
       "<g class=\"edge\" id=\"edge2\">\n",
       "<title>4693030504-&gt;4693031960</title>\n",
       "<path d=\"M79.7397,-584.4551C79.7397,-576.3828 79.7397,-566.6764 79.7397,-557.6817\" fill=\"none\" stroke=\"#000000\"/>\n",
       "<polygon fill=\"#000000\" points=\"83.2398,-557.5903 79.7397,-547.5904 76.2398,-557.5904 83.2398,-557.5903\" stroke=\"#000000\"/>\n",
       "</g>\n",
       "<!-- 4693031848 -->\n",
       "<g class=\"node\" id=\"node4\">\n",
       "<title>4693031848</title>\n",
       "<polygon fill=\"none\" points=\"30.3174,-438.5 30.3174,-474.5 129.1621,-474.5 129.1621,-438.5 30.3174,-438.5\" stroke=\"#000000\"/>\n",
       "<text fill=\"#000000\" font-family=\"Times,serif\" font-size=\"14.00\" text-anchor=\"middle\" x=\"79.7397\" y=\"-452.3\">lstm_2: LSTM</text>\n",
       "</g>\n",
       "<!-- 4693031960&#45;&gt;4693031848 -->\n",
       "<g class=\"edge\" id=\"edge3\">\n",
       "<title>4693031960-&gt;4693031848</title>\n",
       "<path d=\"M79.7397,-511.4551C79.7397,-503.3828 79.7397,-493.6764 79.7397,-484.6817\" fill=\"none\" stroke=\"#000000\"/>\n",
       "<polygon fill=\"#000000\" points=\"83.2398,-484.5903 79.7397,-474.5904 76.2398,-484.5904 83.2398,-484.5903\" stroke=\"#000000\"/>\n",
       "</g>\n",
       "<!-- 4697498176 -->\n",
       "<g class=\"node\" id=\"node5\">\n",
       "<title>4697498176</title>\n",
       "<polygon fill=\"none\" points=\"15.938,-365.5 15.938,-401.5 143.5415,-401.5 143.5415,-365.5 15.938,-365.5\" stroke=\"#000000\"/>\n",
       "<text fill=\"#000000\" font-family=\"Times,serif\" font-size=\"14.00\" text-anchor=\"middle\" x=\"79.7397\" y=\"-379.3\">dropout_2: Dropout</text>\n",
       "</g>\n",
       "<!-- 4693031848&#45;&gt;4697498176 -->\n",
       "<g class=\"edge\" id=\"edge4\">\n",
       "<title>4693031848-&gt;4697498176</title>\n",
       "<path d=\"M79.7397,-438.4551C79.7397,-430.3828 79.7397,-420.6764 79.7397,-411.6817\" fill=\"none\" stroke=\"#000000\"/>\n",
       "<polygon fill=\"#000000\" points=\"83.2398,-411.5903 79.7397,-401.5904 76.2398,-411.5904 83.2398,-411.5903\" stroke=\"#000000\"/>\n",
       "</g>\n",
       "<!-- 4697353800 -->\n",
       "<g class=\"node\" id=\"node6\">\n",
       "<title>4697353800</title>\n",
       "<polygon fill=\"none\" points=\"30.3174,-292.5 30.3174,-328.5 129.1621,-328.5 129.1621,-292.5 30.3174,-292.5\" stroke=\"#000000\"/>\n",
       "<text fill=\"#000000\" font-family=\"Times,serif\" font-size=\"14.00\" text-anchor=\"middle\" x=\"79.7397\" y=\"-306.3\">lstm_3: LSTM</text>\n",
       "</g>\n",
       "<!-- 4697498176&#45;&gt;4697353800 -->\n",
       "<g class=\"edge\" id=\"edge5\">\n",
       "<title>4697498176-&gt;4697353800</title>\n",
       "<path d=\"M79.7397,-365.4551C79.7397,-357.3828 79.7397,-347.6764 79.7397,-338.6817\" fill=\"none\" stroke=\"#000000\"/>\n",
       "<polygon fill=\"#000000\" points=\"83.2398,-338.5903 79.7397,-328.5904 76.2398,-338.5904 83.2398,-338.5903\" stroke=\"#000000\"/>\n",
       "</g>\n",
       "<!-- 4718472552 -->\n",
       "<g class=\"node\" id=\"node7\">\n",
       "<title>4718472552</title>\n",
       "<polygon fill=\"none\" points=\"15.938,-219.5 15.938,-255.5 143.5415,-255.5 143.5415,-219.5 15.938,-219.5\" stroke=\"#000000\"/>\n",
       "<text fill=\"#000000\" font-family=\"Times,serif\" font-size=\"14.00\" text-anchor=\"middle\" x=\"79.7397\" y=\"-233.3\">dropout_3: Dropout</text>\n",
       "</g>\n",
       "<!-- 4697353800&#45;&gt;4718472552 -->\n",
       "<g class=\"edge\" id=\"edge6\">\n",
       "<title>4697353800-&gt;4718472552</title>\n",
       "<path d=\"M79.7397,-292.4551C79.7397,-284.3828 79.7397,-274.6764 79.7397,-265.6817\" fill=\"none\" stroke=\"#000000\"/>\n",
       "<polygon fill=\"#000000\" points=\"83.2398,-265.5903 79.7397,-255.5904 76.2398,-265.5904 83.2398,-265.5903\" stroke=\"#000000\"/>\n",
       "</g>\n",
       "<!-- 4693030784 -->\n",
       "<g class=\"node\" id=\"node8\">\n",
       "<title>4693030784</title>\n",
       "<polygon fill=\"none\" points=\"30.3174,-146.5 30.3174,-182.5 129.1621,-182.5 129.1621,-146.5 30.3174,-146.5\" stroke=\"#000000\"/>\n",
       "<text fill=\"#000000\" font-family=\"Times,serif\" font-size=\"14.00\" text-anchor=\"middle\" x=\"79.7397\" y=\"-160.3\">lstm_4: LSTM</text>\n",
       "</g>\n",
       "<!-- 4718472552&#45;&gt;4693030784 -->\n",
       "<g class=\"edge\" id=\"edge7\">\n",
       "<title>4718472552-&gt;4693030784</title>\n",
       "<path d=\"M79.7397,-219.4551C79.7397,-211.3828 79.7397,-201.6764 79.7397,-192.6817\" fill=\"none\" stroke=\"#000000\"/>\n",
       "<polygon fill=\"#000000\" points=\"83.2398,-192.5903 79.7397,-182.5904 76.2398,-192.5904 83.2398,-192.5903\" stroke=\"#000000\"/>\n",
       "</g>\n",
       "<!-- 4718519856 -->\n",
       "<g class=\"node\" id=\"node9\">\n",
       "<title>4718519856</title>\n",
       "<polygon fill=\"none\" points=\"15.938,-73.5 15.938,-109.5 143.5415,-109.5 143.5415,-73.5 15.938,-73.5\" stroke=\"#000000\"/>\n",
       "<text fill=\"#000000\" font-family=\"Times,serif\" font-size=\"14.00\" text-anchor=\"middle\" x=\"79.7397\" y=\"-87.3\">dropout_4: Dropout</text>\n",
       "</g>\n",
       "<!-- 4693030784&#45;&gt;4718519856 -->\n",
       "<g class=\"edge\" id=\"edge8\">\n",
       "<title>4693030784-&gt;4718519856</title>\n",
       "<path d=\"M79.7397,-146.4551C79.7397,-138.3828 79.7397,-128.6764 79.7397,-119.6817\" fill=\"none\" stroke=\"#000000\"/>\n",
       "<polygon fill=\"#000000\" points=\"83.2398,-119.5903 79.7397,-109.5904 76.2398,-119.5904 83.2398,-119.5903\" stroke=\"#000000\"/>\n",
       "</g>\n",
       "<!-- 4722134824 -->\n",
       "<g class=\"node\" id=\"node10\">\n",
       "<title>4722134824</title>\n",
       "<polygon fill=\"none\" points=\"27.6138,-.5 27.6138,-36.5 131.8657,-36.5 131.8657,-.5 27.6138,-.5\" stroke=\"#000000\"/>\n",
       "<text fill=\"#000000\" font-family=\"Times,serif\" font-size=\"14.00\" text-anchor=\"middle\" x=\"79.7397\" y=\"-14.3\">dense_1: Dense</text>\n",
       "</g>\n",
       "<!-- 4718519856&#45;&gt;4722134824 -->\n",
       "<g class=\"edge\" id=\"edge9\">\n",
       "<title>4718519856-&gt;4722134824</title>\n",
       "<path d=\"M79.7397,-73.4551C79.7397,-65.3828 79.7397,-55.6764 79.7397,-46.6817\" fill=\"none\" stroke=\"#000000\"/>\n",
       "<polygon fill=\"#000000\" points=\"83.2398,-46.5903 79.7397,-36.5904 76.2398,-46.5904 83.2398,-46.5903\" stroke=\"#000000\"/>\n",
       "</g>\n",
       "</g>\n",
       "</svg>"
      ],
      "text/plain": [
       "<IPython.core.display.SVG object>"
      ]
     },
     "execution_count": 12,
     "metadata": {},
     "output_type": "execute_result"
    }
   ],
   "source": [
    "from IPython.display import SVG\n",
    "from keras.utils.vis_utils import model_to_dot\n",
    "SVG(model_to_dot(model).create(prog='dot', format='svg'))"
   ]
  },
  {
   "cell_type": "code",
   "execution_count": 13,
   "metadata": {},
   "outputs": [],
   "source": [
    "from keras.utils import plot_model\n",
    "plot_model(model, to_file='model.png')"
   ]
  },
  {
   "cell_type": "markdown",
   "metadata": {},
   "source": [
    "모델을 컴파일 합니다."
   ]
  },
  {
   "cell_type": "code",
   "execution_count": 14,
   "metadata": {},
   "outputs": [],
   "source": [
    "# 3. 모델 학습과정 설정하기\n",
    "model.compile(loss='mean_squared_error', optimizer='adam')"
   ]
  },
  {
   "cell_type": "markdown",
   "metadata": {},
   "source": [
    "데이터의 형태를 확인합니다."
   ]
  },
  {
   "cell_type": "code",
   "execution_count": null,
   "metadata": {},
   "outputs": [
    {
     "name": "stdout",
     "output_type": "stream",
     "text": [
      "x_train: (327, 10, 2)\n",
      "y_train: (327, 2)\n"
     ]
    }
   ],
   "source": [
    "print(\"x_train:\", x_train.shape)\n",
    "print(\"y_train:\", y_train.shape)"
   ]
  },
  {
   "cell_type": "markdown",
   "metadata": {},
   "source": [
    "## 모델 훈련\n",
    "\n",
    "이제 컴파일한 모델을 훈련시킵니다."
   ]
  },
  {
   "cell_type": "code",
   "execution_count": null,
   "metadata": {},
   "outputs": [
    {
     "name": "stdout",
     "output_type": "stream",
     "text": [
      "Epoch 1/1\n",
      "271/327 [=======================>......] - ETA: 7s - loss: 0.0315"
     ]
    }
   ],
   "source": [
    "model.fit(x_train, y_train, epochs=1, batch_size=1, shuffle=False)"
   ]
  },
  {
   "cell_type": "markdown",
   "metadata": {},
   "source": [
    "model.fit() 을 여러번 수행시켜 모델을 계속해서 훈련시킬 수 있습니다."
   ]
  },
  {
   "cell_type": "code",
   "execution_count": null,
   "metadata": {
    "code_folding": [],
    "scrolled": true
   },
   "outputs": [],
   "source": [
    "train_count = 10\n",
    "for i in range(train_count):\n",
    "    print(\"train_step:{}\".format(i+1))\n",
    "    model.fit(x_train, y_train, epochs=1, batch_size=1, shuffle=False)\n",
    "    model.reset_states()"
   ]
  },
  {
   "cell_type": "code",
   "execution_count": null,
   "metadata": {},
   "outputs": [],
   "source": [
    "xhat = x_train[0]\n",
    "prediction = model.predict(np.array([xhat]), batch_size=1)"
   ]
  },
  {
   "cell_type": "markdown",
   "metadata": {},
   "source": [
    "예측한 값과 실제값을 확인해 봅니다. 처음에는 상당히 다른값을 보일 것입니다. train 횟수를 늘려가면서 확인해보면 점점 비슷해 지는 것을 확인할 수 있습니다."
   ]
  },
  {
   "cell_type": "code",
   "execution_count": null,
   "metadata": {},
   "outputs": [],
   "source": [
    "print(\"y:\", y_train[0])\n",
    "print(\"p:\", prediction)"
   ]
  },
  {
   "cell_type": "markdown",
   "metadata": {},
   "source": [
    "## 그래프 확인\n",
    "\n",
    "예측할 데이터는 y_train이므로, y_train의 데이터를 그래프로 확인해 보겠습니다. 사용한 feature 는 high, low 2개이므로 2개의 그래프가 같이 그려집니다."
   ]
  },
  {
   "cell_type": "code",
   "execution_count": null,
   "metadata": {},
   "outputs": [],
   "source": [
    "import matplotlib.pyplot as plt\n",
    "plt.plot(y_train)\n",
    "plt.show()"
   ]
  },
  {
   "cell_type": "markdown",
   "metadata": {},
   "source": [
    "여기에 예측한 데이터를 같이 표시하기 위해 예측 데이터를 생성합니다.\n",
    "\n",
    "`model.predict()`로 다음 데이터를 생성하고, 나온 결과값을 이용하여 그 다음 값을 예측합니다."
   ]
  },
  {
   "cell_type": "code",
   "execution_count": null,
   "metadata": {},
   "outputs": [],
   "source": [
    "data_size = len(y_train)\n",
    "\n",
    "xhat = x_train[0]\n",
    "high_list = np.zeros((data_size))\n",
    "low_list = np.zeros((data_size))\n",
    "\n",
    "for i in range(len(y_train)):\n",
    "    prediction = model.predict(np.array([xhat]), batch_size=1)        \n",
    "    prediction = prediction[0]\n",
    "    high_list[i] = prediction[0]\n",
    "    low_list[i] = prediction[1]\n",
    "    xhat = np.vstack([xhat[1:],prediction])"
   ]
  },
  {
   "cell_type": "markdown",
   "metadata": {},
   "source": [
    "나온 예측값을 데이터와 함께 그래프로 출력합니다."
   ]
  },
  {
   "cell_type": "code",
   "execution_count": null,
   "metadata": {
    "scrolled": true
   },
   "outputs": [],
   "source": [
    "plt.plot(y_train, label=\"original\")\n",
    "plt.plot(high_list, label=\"predict_high\")\n",
    "plt.plot(low_list, label=\"predict_low\")\n",
    "plt.legend()\n",
    "plt.show()"
   ]
  },
  {
   "cell_type": "markdown",
   "metadata": {},
   "source": [
    "## 이어서...\n",
    "\n",
    "모델을 저장하고, 반복해서 학습시키겠습니다."
   ]
  },
  {
   "cell_type": "code",
   "execution_count": null,
   "metadata": {},
   "outputs": [],
   "source": []
  }
 ],
 "metadata": {
  "kernelspec": {
   "display_name": "Python 3",
   "language": "python",
   "name": "python3"
  },
  "language_info": {
   "codemirror_mode": {
    "name": "ipython",
    "version": 3
   },
   "file_extension": ".py",
   "mimetype": "text/x-python",
   "name": "python",
   "nbconvert_exporter": "python",
   "pygments_lexer": "ipython3",
   "version": "3.6.1"
  },
  "toc": {
   "nav_menu": {},
   "number_sections": true,
   "sideBar": false,
   "skip_h1_title": true,
   "title_cell": "Table of Contents",
   "title_sidebar": "Contents",
   "toc_cell": true,
   "toc_position": {
    "height": "306px",
    "left": "1275px",
    "top": "54px",
    "width": "165px"
   },
   "toc_section_display": true,
   "toc_window_display": true
  }
 },
 "nbformat": 4,
 "nbformat_minor": 2
}
