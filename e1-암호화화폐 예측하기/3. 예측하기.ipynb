{
 "cells": [
  {
   "cell_type": "markdown",
   "metadata": {
    "toc": true
   },
   "source": [
    "<h1>Table of Contents<span class=\"tocSkip\"></span></h1>\n",
    "<div class=\"toc\"><ul class=\"toc-item\"><li><span><a href=\"#데이터-불러오기\" data-toc-modified-id=\"데이터-불러오기-1\"><span class=\"toc-item-num\">1&nbsp;&nbsp;</span>데이터 불러오기</a></span></li><li><span><a href=\"#함수-생성\" data-toc-modified-id=\"함수-생성-2\"><span class=\"toc-item-num\">2&nbsp;&nbsp;</span>함수 생성</a></span></li><li><span><a href=\"#마지막-값\" data-toc-modified-id=\"마지막-값-3\"><span class=\"toc-item-num\">3&nbsp;&nbsp;</span>마지막 값</a></span></li><li><span><a href=\"#그래프-그리기\" data-toc-modified-id=\"그래프-그리기-4\"><span class=\"toc-item-num\">4&nbsp;&nbsp;</span>그래프 그리기</a></span></li></ul></div>"
   ]
  },
  {
   "cell_type": "markdown",
   "metadata": {},
   "source": [
    "# keras를 사용하여 암호화화폐 예측하기 - 3. 예측하기\n",
    "\n",
    "이전에 작성한 코드들을 사용하여 함수로 만들겠습니다."
   ]
  },
  {
   "cell_type": "markdown",
   "metadata": {},
   "source": [
    "## 데이터 불러오기\n",
    "\n",
    "먼저 데이터를 불러오는 함수를 생성합니다. csv는 다운 받은 상태 이후에서 진행합니다."
   ]
  },
  {
   "cell_type": "code",
   "execution_count": 1,
   "metadata": {},
   "outputs": [],
   "source": [
    "import pandas as pd    \n",
    "import numpy as np\n",
    "\n",
    "def load_data(file_name = 'hour_Bithumb_XRP_KRW.csv', look_back = 10):\n",
    "    data = pd.read_csv(file_name)\n",
    "\n",
    "    high_low_data = data[['high','low']]\n",
    "    data = high_low_data.dropna(axis=0, how='any')\n",
    "\n",
    "    min_low = data.min(axis=0).low\n",
    "    data -= min_low\n",
    "    max_high = data.max(axis=0).high\n",
    "    data /= max_high\n",
    "\n",
    "    data_arr = data.values\n",
    "\n",
    "    data_x, data_y = [], []\n",
    "    for i in range(len(data_arr) - look_back):\n",
    "        data_x.append(data_arr[i:(i+look_back)])\n",
    "        data_y.append(data_arr[i+look_back])\n",
    "\n",
    "    x_train = np.array(data_x)\n",
    "    y_train = np.array(data_y)\n",
    "    \n",
    "    return x_train, y_train    "
   ]
  },
  {
   "cell_type": "markdown",
   "metadata": {},
   "source": [
    "생성한 함수가 정상적으로 동작하는지 확인해 보겠습니다. 마지막 값을 확인해보기 위해 `-1`을 사용하였습니다."
   ]
  },
  {
   "cell_type": "code",
   "execution_count": 2,
   "metadata": {
    "scrolled": true
   },
   "outputs": [
    {
     "name": "stdout",
     "output_type": "stream",
     "text": [
      "X [[ 0.17827004  0.17299578]\n",
      " [ 0.19514768  0.17352321]\n",
      " [ 0.19620253  0.1835443 ]\n",
      " [ 0.19620253  0.18670886]\n",
      " [ 0.1935654   0.18618143]\n",
      " [ 0.19514768  0.18934599]\n",
      " [ 0.19567511  0.18829114]\n",
      " [ 0.1914557   0.18565401]\n",
      " [ 0.19409283  0.18670886]\n",
      " [ 0.19040084  0.17879747]]\n",
      "Y [ 0.18776371  0.18407173]\n"
     ]
    }
   ],
   "source": [
    "x_train, y_train = load_data()\n",
    "print(\"X\", x_train[-1])\n",
    "print(\"Y\", y_train[-1])"
   ]
  },
  {
   "cell_type": "markdown",
   "metadata": {},
   "source": [
    "## 함수 생성\n",
    "\n",
    "훈련 하는 함수를 생성합니다. 예측에 사용하기 위해 마지막에 model을 반합니다. "
   ]
  },
  {
   "cell_type": "code",
   "execution_count": 3,
   "metadata": {},
   "outputs": [],
   "source": [
    "model_name = \"xrp_hour.h5\"\n",
    "\n",
    "def train_model(train_count):\n",
    "    model = load_saved_model()\n",
    "    for i in range(train_count):\n",
    "        print(\"train_step:{}\".format(i+1))\n",
    "        model.fit(x_train, y_train, epochs=1, batch_size=1, shuffle=False)\n",
    "        model.reset_states()\n",
    "    model.save(model_name)\n",
    "    return model"
   ]
  },
  {
   "cell_type": "markdown",
   "metadata": {},
   "source": [
    "필요한 load_saved_model(), create_model() 함수를 생성합니다. 이전에 작성한 코드를 사용합니다."
   ]
  },
  {
   "cell_type": "code",
   "execution_count": 4,
   "metadata": {},
   "outputs": [
    {
     "name": "stderr",
     "output_type": "stream",
     "text": [
      "Using TensorFlow backend.\n"
     ]
    }
   ],
   "source": [
    "from keras.models import load_model\n",
    "\n",
    "def load_saved_model():\n",
    "    try:\n",
    "        model = load_model(model_name)\n",
    "    except:\n",
    "        model = create_model()\n",
    "    return model"
   ]
  },
  {
   "cell_type": "code",
   "execution_count": 5,
   "metadata": {},
   "outputs": [],
   "source": [
    "from keras.models import Sequential\n",
    "from keras.layers import Dense, Dropout, LSTM\n",
    "\n",
    "def create_model():\n",
    "    batch_size = 1\n",
    "    look_back = 10\n",
    "    feature = 2\n",
    "\n",
    "    model = Sequential()\n",
    "    for i in range(3):\n",
    "        model.add(LSTM(32, batch_input_shape=(batch_size, look_back, feature), stateful=True, return_sequences=True))\n",
    "        model.add(Dropout(0.1))\n",
    "    model.add(LSTM(32, batch_input_shape=(batch_size, look_back, feature), stateful=True))\n",
    "    model.add(Dropout(0.1))\n",
    "    model.add(Dense(feature))\n",
    "\n",
    "    model.compile(loss='mean_squared_error', optimizer='adam')\n",
    "    return model"
   ]
  },
  {
   "cell_type": "markdown",
   "metadata": {},
   "source": [
    "모델을 불러오고, 훈련하고, 저장하는 trian_model 함수를 호출합니다. 모델을 반환받아서 예측에 사용합니다."
   ]
  },
  {
   "cell_type": "code",
   "execution_count": 6,
   "metadata": {},
   "outputs": [
    {
     "name": "stdout",
     "output_type": "stream",
     "text": [
      "train_step:1\n",
      "Epoch 1/1\n",
      "327/327 [==============================] - 29s 87ms/step - loss: 0.0343\n",
      "train_step:2\n",
      "Epoch 1/1\n",
      "327/327 [==============================] - 25s 78ms/step - loss: 0.0383\n"
     ]
    }
   ],
   "source": [
    "model = train_model(2)"
   ]
  },
  {
   "cell_type": "markdown",
   "metadata": {},
   "source": [
    "마지막 값을 사용하여 이후에 변동될 값을 예측합니다."
   ]
  },
  {
   "cell_type": "code",
   "execution_count": 7,
   "metadata": {},
   "outputs": [
    {
     "name": "stdout",
     "output_type": "stream",
     "text": [
      "[[ 0.17827004  0.17299578]\n",
      " [ 0.19514768  0.17352321]\n",
      " [ 0.19620253  0.1835443 ]\n",
      " [ 0.19620253  0.18670886]\n",
      " [ 0.1935654   0.18618143]\n",
      " [ 0.19514768  0.18934599]\n",
      " [ 0.19567511  0.18829114]\n",
      " [ 0.1914557   0.18565401]\n",
      " [ 0.19409283  0.18670886]\n",
      " [ 0.19040084  0.17879747]] [[ 0.2119216   0.20924547]]\n"
     ]
    }
   ],
   "source": [
    "xhat = x_train[-1]\n",
    "prediction = model.predict(np.array([xhat]), batch_size=1)\n",
    "print(xhat, prediction)"
   ]
  },
  {
   "cell_type": "markdown",
   "metadata": {},
   "source": [
    "## 마지막 값\n",
    "\n",
    "x_train[-1], y_train[-1]은 이미 알고 있는 값입니다.\n",
    "알고 싶은 것은 앞으로 변동될 값이므로, 이를 변경합니다."
   ]
  },
  {
   "cell_type": "code",
   "execution_count": 8,
   "metadata": {},
   "outputs": [
    {
     "data": {
      "text/plain": [
       "array([[ 0.19514768,  0.17352321],\n",
       "       [ 0.19620253,  0.1835443 ],\n",
       "       [ 0.19620253,  0.18670886],\n",
       "       [ 0.1935654 ,  0.18618143],\n",
       "       [ 0.19514768,  0.18934599],\n",
       "       [ 0.19567511,  0.18829114],\n",
       "       [ 0.1914557 ,  0.18565401],\n",
       "       [ 0.19409283,  0.18670886],\n",
       "       [ 0.19040084,  0.17879747],\n",
       "       [ 0.18776371,  0.18407173]])"
      ]
     },
     "execution_count": 8,
     "metadata": {},
     "output_type": "execute_result"
    }
   ],
   "source": [
    "xhat = x_train[-1]\n",
    "last = np.vstack([xhat[1:], y_train[-1]])\n",
    "last"
   ]
  },
  {
   "cell_type": "markdown",
   "metadata": {},
   "source": [
    "마지막 입력값을 구했으니, 이를 사용해서 `high, low` 값을 예측합니다. "
   ]
  },
  {
   "cell_type": "code",
   "execution_count": 9,
   "metadata": {},
   "outputs": [
    {
     "data": {
      "text/plain": [
       "array([[ 0.18885973,  0.17794771]], dtype=float32)"
      ]
     },
     "execution_count": 9,
     "metadata": {},
     "output_type": "execute_result"
    }
   ],
   "source": [
    "prediction = model.predict(np.array([last]))\n",
    "prediction"
   ]
  },
  {
   "cell_type": "markdown",
   "metadata": {},
   "source": [
    "## 그래프 그리기\n",
    "\n",
    "예측값을 사용해서 그래프를 생성합니다."
   ]
  },
  {
   "cell_type": "code",
   "execution_count": 10,
   "metadata": {},
   "outputs": [],
   "source": [
    "import matplotlib.pyplot as plt\n",
    "\n",
    "def draw(model, last, look_forward = 50):\n",
    "    high_list = np.zeros((look_forward))\n",
    "    low_list = np.zeros((look_forward))\n",
    "\n",
    "    for i in range(look_forward):\n",
    "        prediction = model.predict(np.array([last]), batch_size=1)        \n",
    "        prediction = prediction[0]\n",
    "        high_list[i] = prediction[0]\n",
    "        low_list[i] = prediction[1]\n",
    "        last = np.vstack([last[1:],prediction])\n",
    "\n",
    "    plt.plot(high_list, label=\"predict_high\")\n",
    "    plt.plot(low_list, label=\"predict_low\")\n",
    "    plt.legend()\n",
    "    plt.show()\n",
    "    \n",
    "    return high_list, low_list"
   ]
  },
  {
   "cell_type": "code",
   "execution_count": 11,
   "metadata": {},
   "outputs": [
    {
     "name": "stdout",
     "output_type": "stream",
     "text": [
      "train_step:1\n",
      "Epoch 1/1\n",
      "327/327 [==============================] - 26s 80ms/step - loss: 0.0368\n",
      "train_step:2\n",
      "Epoch 1/1\n",
      "327/327 [==============================] - 25s 75ms/step - loss: 0.0365\n",
      "train_step:3\n",
      "Epoch 1/1\n",
      "327/327 [==============================] - 25s 77ms/step - loss: 0.0433\n",
      "train_step:4\n",
      "Epoch 1/1\n",
      "327/327 [==============================] - 25s 77ms/step - loss: 0.0441\n",
      "train_step:5\n",
      "Epoch 1/1\n",
      "327/327 [==============================] - 24s 75ms/step - loss: 0.0352\n"
     ]
    },
    {
     "data": {
      "image/png": "[encoded data removed]",
      "text/plain": [
       "<matplotlib.figure.Figure at 0x122e19ba8>"
      ]
     },
     "metadata": {},
     "output_type": "display_data"
    }
   ],
   "source": [
    "model = train_model(5)\n",
    "high_list, low_list = draw(model, last)"
   ]
  },
  {
   "cell_type": "markdown",
   "metadata": {},
   "source": [
    "원하는 그래프가 나오지 않는 다면 학습을 더 진행합니다. 훈련 숫자를 변경하거나, 아래 코드를 여러번 실행하여 훈련을 진행합니다. 훈련을 진행 할수록 결과 그래프가 바뀌는 것을 볼 수 있습니다.\n",
    "\n",
    "> 200번 이상 훈련이 되도록 실행합니다. "
   ]
  },
  {
   "cell_type": "code",
   "execution_count": null,
   "metadata": {
    "scrolled": true
   },
   "outputs": [
    {
     "name": "stdout",
     "output_type": "stream",
     "text": [
      "train_step:1\n",
      "Epoch 1/1\n",
      "327/327 [==============================] - 25s 78ms/step - loss: 0.0406\n",
      "train_step:2\n",
      "Epoch 1/1\n",
      "327/327 [==============================] - 26s 80ms/step - loss: 0.0426\n",
      "train_step:3\n",
      "Epoch 1/1\n",
      "327/327 [==============================] - 26s 80ms/step - loss: 0.0414\n",
      "train_step:4\n",
      "Epoch 1/1\n",
      "327/327 [==============================] - 27s 81ms/step - loss: 0.0413\n",
      "train_step:5\n",
      "Epoch 1/1\n",
      "327/327 [==============================] - 26s 78ms/step - loss: 0.0412\n",
      "train_step:6\n",
      "Epoch 1/1\n",
      "327/327 [==============================] - 25s 77ms/step - loss: 0.0412\n",
      "train_step:7\n",
      "Epoch 1/1\n",
      "327/327 [==============================] - 23s 70ms/step - loss: 0.0412\n",
      "train_step:8\n",
      "Epoch 1/1\n",
      "327/327 [==============================] - 23s 70ms/step - loss: 0.0412\n",
      "train_step:9\n",
      "Epoch 1/1\n",
      "327/327 [==============================] - 23s 70ms/step - loss: 0.0412\n",
      "train_step:10\n",
      "Epoch 1/1\n",
      "327/327 [==============================] - 24s 72ms/step - loss: 0.0412\n",
      "train_step:11\n",
      "Epoch 1/1\n",
      "327/327 [==============================] - 23s 70ms/step - loss: 0.0412\n",
      "train_step:12\n",
      "Epoch 1/1\n",
      "327/327 [==============================] - 23s 69ms/step - loss: 0.0410\n",
      "train_step:13\n",
      "Epoch 1/1\n",
      "327/327 [==============================] - 23s 70ms/step - loss: 0.0364\n",
      "train_step:14\n",
      "Epoch 1/1\n",
      "327/327 [==============================] - 23s 70ms/step - loss: 0.0397\n",
      "train_step:15\n",
      "Epoch 1/1\n",
      "327/327 [==============================] - 23s 70ms/step - loss: 0.0397\n",
      "train_step:16\n",
      "Epoch 1/1\n",
      "327/327 [==============================] - 23s 70ms/step - loss: 0.0389\n",
      "train_step:17\n",
      "Epoch 1/1\n",
      "327/327 [==============================] - 23s 71ms/step - loss: 0.0396\n",
      "train_step:18\n",
      "Epoch 1/1\n",
      "327/327 [==============================] - 23s 70ms/step - loss: 0.0381\n",
      "train_step:19\n",
      "Epoch 1/1\n",
      "327/327 [==============================] - 23s 70ms/step - loss: 0.0298\n",
      "train_step:20\n",
      "Epoch 1/1\n",
      "327/327 [==============================] - 23s 72ms/step - loss: 0.0379\n"
     ]
    },
    {
     "data": {
      "image/png": "[encoded data removed]",
      "text/plain": [
       "<matplotlib.figure.Figure at 0x12d833eb8>"
      ]
     },
     "metadata": {},
     "output_type": "display_data"
    },
    {
     "name": "stdout",
     "output_type": "stream",
     "text": [
      "train_step:1\n",
      "Epoch 1/1\n",
      "327/327 [==============================] - 23s 71ms/step - loss: 0.0427\n",
      "train_step:2\n",
      "Epoch 1/1\n",
      "327/327 [==============================] - 24s 73ms/step - loss: 0.0414\n",
      "train_step:3\n",
      "Epoch 1/1\n",
      "327/327 [==============================] - 24s 73ms/step - loss: 0.0413\n",
      "train_step:4\n",
      "Epoch 1/1\n",
      "327/327 [==============================] - 23s 69ms/step - loss: 0.0413\n",
      "train_step:5\n",
      "Epoch 1/1\n",
      "327/327 [==============================] - 26s 79ms/step - loss: 0.0412\n",
      "train_step:6\n",
      "Epoch 1/1\n",
      "327/327 [==============================] - 25s 78ms/step - loss: 0.0412\n",
      "train_step:7\n",
      "Epoch 1/1\n",
      "327/327 [==============================] - 26s 79ms/step - loss: 0.0412\n",
      "train_step:8\n",
      "Epoch 1/1\n",
      "327/327 [==============================] - 24s 72ms/step - loss: 0.0412\n",
      "train_step:9\n",
      "Epoch 1/1\n",
      "327/327 [==============================] - 23s 71ms/step - loss: 0.0412\n",
      "train_step:10\n",
      "Epoch 1/1\n",
      "327/327 [==============================] - 24s 73ms/step - loss: 0.0412\n",
      "train_step:11\n",
      "Epoch 1/1\n",
      "327/327 [==============================] - 23s 70ms/step - loss: 0.0412\n",
      "train_step:12\n",
      "Epoch 1/1\n",
      "327/327 [==============================] - 23s 71ms/step - loss: 0.0412\n",
      "train_step:13\n",
      "Epoch 1/1\n",
      "327/327 [==============================] - 25s 77ms/step - loss: 0.0412\n",
      "train_step:14\n",
      "Epoch 1/1\n",
      "327/327 [==============================] - 27s 81ms/step - loss: 0.0312\n",
      "train_step:15\n",
      "Epoch 1/1\n",
      "327/327 [==============================] - 25s 77ms/step - loss: 0.0253\n",
      "train_step:16\n",
      "Epoch 1/1\n",
      "327/327 [==============================] - 24s 73ms/step - loss: 0.0380\n",
      "train_step:17\n",
      "Epoch 1/1\n",
      "327/327 [==============================] - 24s 74ms/step - loss: 0.0371\n",
      "train_step:18\n",
      "Epoch 1/1\n",
      "327/327 [==============================] - 25s 76ms/step - loss: 0.0409\n",
      "train_step:19\n",
      "Epoch 1/1\n",
      "327/327 [==============================] - 25s 78ms/step - loss: 0.0426\n",
      "train_step:20\n",
      "Epoch 1/1\n",
      "327/327 [==============================] - 24s 74ms/step - loss: 0.0424\n"
     ]
    },
    {
     "data": {
      "image/png": "[encoded data removed]",
      "text/plain": [
       "<matplotlib.figure.Figure at 0x12e5ad588>"
      ]
     },
     "metadata": {},
     "output_type": "display_data"
    },
    {
     "name": "stdout",
     "output_type": "stream",
     "text": [
      "train_step:1\n",
      "Epoch 1/1\n",
      "327/327 [==============================] - 26s 80ms/step - loss: 0.0424\n",
      "train_step:2\n",
      "Epoch 1/1\n",
      "327/327 [==============================] - 24s 74ms/step - loss: 0.0417\n",
      "train_step:3\n",
      "Epoch 1/1\n",
      "327/327 [==============================] - 23s 72ms/step - loss: 0.0412\n",
      "train_step:4\n",
      "Epoch 1/1\n",
      "327/327 [==============================] - 23s 70ms/step - loss: 0.0413\n",
      "train_step:5\n",
      "Epoch 1/1\n",
      "327/327 [==============================] - 23s 71ms/step - loss: 0.0412\n",
      "train_step:6\n",
      "Epoch 1/1\n",
      "327/327 [==============================] - 23s 69ms/step - loss: 0.0412\n",
      "train_step:7\n",
      "Epoch 1/1\n",
      "327/327 [==============================] - 23s 72ms/step - loss: 0.0412\n",
      "train_step:8\n",
      "Epoch 1/1\n",
      "327/327 [==============================] - 23s 70ms/step - loss: 0.0412\n",
      "train_step:9\n",
      "Epoch 1/1\n",
      "327/327 [==============================] - 24s 73ms/step - loss: 0.0412\n",
      "train_step:10\n",
      "Epoch 1/1\n",
      "327/327 [==============================] - 26s 78ms/step - loss: 0.0412\n",
      "train_step:11\n",
      "Epoch 1/1\n",
      "327/327 [==============================] - 26s 79ms/step - loss: 0.0412\n",
      "train_step:12\n",
      "Epoch 1/1\n",
      "327/327 [==============================] - 24s 73ms/step - loss: 0.0412\n",
      "train_step:13\n",
      "Epoch 1/1\n",
      "327/327 [==============================] - 25s 76ms/step - loss: 0.0412\n",
      "train_step:14\n",
      "Epoch 1/1\n",
      "327/327 [==============================] - 24s 73ms/step - loss: 0.0412\n",
      "train_step:15\n",
      "Epoch 1/1\n",
      "327/327 [==============================] - 26s 80ms/step - loss: 0.0412\n",
      "train_step:16\n",
      "Epoch 1/1\n",
      "327/327 [==============================] - 25s 77ms/step - loss: 0.0412\n",
      "train_step:17\n",
      "Epoch 1/1\n",
      "327/327 [==============================] - 24s 73ms/step - loss: 0.0401\n",
      "train_step:18\n",
      "Epoch 1/1\n",
      "327/327 [==============================] - 25s 76ms/step - loss: 0.0444\n",
      "train_step:19\n",
      "Epoch 1/1\n",
      "327/327 [==============================] - 24s 74ms/step - loss: 0.0339\n",
      "train_step:20\n",
      "Epoch 1/1\n",
      "206/327 [=================>............] - ETA: 9s - loss: 0.0602"
     ]
    }
   ],
   "source": [
    "for i in range(10):  \n",
    "    model = train_model(20)\n",
    "    high_list, low_list = draw(model, last)\n",
    "    del model"
   ]
  },
  {
   "cell_type": "markdown",
   "metadata": {},
   "source": [
    "위에서 나온 min_low, max_high 값을 사용하여 값을 복원할 수 있습니다. \n",
    "\n",
    ":-) 감사합니다."
   ]
  },
  {
   "cell_type": "raw",
   "metadata": {},
   "source": [
    "<script src=\"https://gist.github.com/jacegem/992cace234a783e47212446ba751e1d0.js\"></script>"
   ]
  }
 ],
 "metadata": {
  "kernelspec": {
   "display_name": "Python 3",
   "language": "python",
   "name": "python3"
  },
  "language_info": {
   "codemirror_mode": {
    "name": "ipython",
    "version": 3
   },
   "file_extension": ".py",
   "mimetype": "text/x-python",
   "name": "python",
   "nbconvert_exporter": "python",
   "pygments_lexer": "ipython3",
   "version": "3.6.1"
  },
  "toc": {
   "nav_menu": {
    "height": "265px",
    "width": "208px"
   },
   "number_sections": true,
   "sideBar": false,
   "skip_h1_title": true,
   "title_cell": "Table of Contents",
   "title_sidebar": "Contents",
   "toc_cell": true,
   "toc_position": {},
   "toc_section_display": true,
   "toc_window_display": false
  }
 },
 "nbformat": 4,
 "nbformat_minor": 2
}
